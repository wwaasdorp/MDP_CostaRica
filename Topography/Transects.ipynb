{
 "cells": [
  {
   "cell_type": "code",
   "execution_count": 1,
   "id": "5016ec1b-7e1f-471b-ab9f-751309d59c57",
   "metadata": {},
   "outputs": [],
   "source": [
    "import matplotlib.pyplot as plt\n",
    "import numpy as np\n",
    "import scipy.linalg as la\n",
    "from scipy.spatial import distance\n",
    "import math\n",
    "from scipy import interpolate"
   ]
  },
  {
   "cell_type": "code",
   "execution_count": 2,
   "id": "ff82873a",
   "metadata": {},
   "outputs": [],
   "source": [
    "#Only this field needs to be altered per day\n",
    "angle_deg = 226 #North angle of transect direction\n",
    "\n",
    "# #########input 10_10_24#########\n",
    "# #daily height fluctuations\n",
    "# fluc_wells = [value / 100 for value in [20.4, 19.7, 19.9]] #height well above sand level\n",
    "\n",
    "# transect_dist = [6.085, 8.928, 11.772, 14.643, 17.445, 20.418, 23.250, 26.143, 30.105, 33.402, 36.439, 40.095, 44.308] #distance from well 2\n",
    "# transect_z = [-0.77, -0.985, -1.26, -1.58, -1.85, -2.12, -2.37, -2.61, -2.975, -3.295, -3.595, -3.935, -4.525]\n",
    "\n",
    "#########input 09_11_24#########\n",
    "fluc_wells = [value / 100 for value in [20.4, 19.7, 19.9]] #height well above sand level\n",
    "\n",
    "transect_dist = [5.686, 7.781, 9.945, 12.236, 14.560, 17.112, 19.644, 22.819, 25.785, 28.677, 31.590, 34.292, 36.985, 39.766, 42.833, 44.308]\n",
    "transect_z = [-0.775, -0.935, -1.050, -1.290, -1.520, -1.770, -2.015, -2.310, -2.535, -2.755, -2.995, -3.265, -3.520, -3.765, -4.085, -4.525]\n",
    "\n",
    "# #########input 04_11_24#########\n",
    "# fluc_wells = [value / 100 for value in [23.2, 19.4, 19.8]] #height well above sand level\n",
    "\n",
    "# transect_dist = [3.353, 6.203, 9.049, 11.871, 14.757, 17.582, 20.509, 23.422, 26.228]\n",
    "# transect_z = [-0.575, -0.812, -1.030, -1.230, -1.490, -1.700, -1.940, -2.150, -2.350]\n"
   ]
  },
  {
   "cell_type": "code",
   "execution_count": 3,
   "id": "cb42ccc9-95fe-4980-b6bc-850155ae1223",
   "metadata": {},
   "outputs": [],
   "source": [
    "#functions\n",
    "def euclidean_distance(x1, y1, x2, y2):\n",
    "    \"\"\"Calculate Euclidean distance between two points (x1, y1) and (x2, y2)\"\"\"\n",
    "    return np.sqrt((x2 - x1)**2 + (y2 - y1)**2)\n",
    "\n",
    "def angle_between_vectors(v1, v2):  \n",
    "    v1 = np.array(v1)  \n",
    "    v2 = np.array(v2)  \n",
    "    cos_theta = np.dot(v1, v2) / (np.linalg.norm(v1) * np.linalg.norm(v2))  \n",
    "    angle = np.arccos(cos_theta)  # angle in radians  \n",
    "    return np.degrees(angle)  # convert to degrees "
   ]
  },
  {
   "cell_type": "code",
   "execution_count": 4,
   "id": "8e7f9497",
   "metadata": {},
   "outputs": [],
   "source": [
    "#well info\n",
    "wellcoord = np.loadtxt('df_wells_UTM.txt', delimiter=',', usecols=(1, 2, 3))\n",
    "wells_x, wells_y, wells_z = wellcoord.T  # Transpose for easy unpacking\n",
    "\n",
    "#transect angle translation\n",
    "angle_rad = np.radians(angle_deg)\n",
    "\n",
    "#create UTM vector 228\n",
    "V_228 = (np.sin(angle_rad), np.cos(angle_rad))\n",
    "V_opp = (-np.cos(angle_rad), np.sin(angle_rad))\n",
    "\n",
    "#because the 3 wells are not placed in a straight line, or in the same direction as the transect measurement direction, calculations below will be made, to project the well\n",
    "#distances onto the transect direction ensuring that the height fluctuations are comparable\n",
    "\n",
    "########################################################### well 1\n",
    "#vector direction between well 1 and 2\n",
    "V_12 = (wells_x[1] - wells_x[0], wells_y[1] - wells_y[0])\n",
    "\n",
    "#anglewell12\n",
    "angle_deg_1 = angle_between_vectors(V_228, V_12)\n",
    "angle_deg_2 = angle_between_vectors(V_opp, V_12)\n",
    "angle_rad_1, angle_rad_2 = np.radians(angle_deg_1), np.radians(angle_deg_2) #both angles in radians\n",
    "\n",
    "#distance between well 1 and well 2\n",
    "dist_well12 = euclidean_distance(wells_x[0], wells_y[0], wells_x[1], wells_y[1])\n",
    "\n",
    "#projected distance compared to the transect direction for well 1 from well 2\n",
    "b1 = (dist_well12 * np.sin(angle_rad_2)) / np.sin(np.radians(90))\n",
    "\n",
    "\n",
    "########################################################### well 3\n",
    "#vector between well 1 and 3\n",
    "V_32 = (wells_x[1] - wells_x[2], wells_y[1] - wells_y[2])\n",
    "\n",
    "#anglewell23\n",
    "angle_deg_3 = angle_between_vectors(V_228, V_32)\n",
    "angle_deg_22 = angle_between_vectors(V_opp, V_32)\n",
    "angle_rad_3, angle_rad_2 = np.radians(angle_deg_3), np.radians(angle_deg_22) #both angles in radians\n",
    "\n",
    "#distance between well 2 and 3\n",
    "dist_well32 = euclidean_distance(wells_x[2], wells_y[2], wells_x[1], wells_y[1])\n",
    "\n",
    "#projected distance compared to the transect direction for well 3 from well 2\n",
    "b3 = (dist_well32 * np.sin(angle_rad_2)) / np.sin(np.radians(90))"
   ]
  },
  {
   "cell_type": "code",
   "execution_count": 5,
   "id": "8bee106a-4f27-43bf-8340-32ff61f7652b",
   "metadata": {},
   "outputs": [],
   "source": [
    "#This code is for altering the local transect and interpolate, so that it can be used as the iz input for matlab CoastalCam\n",
    "\n",
    "#########known#########\n",
    "laserheight = 0.015\n",
    "#well base\n",
    "distance_wells = [0, b1, b1+b3] #projected distance from well 1 (either 228, or 226 degree North)\n",
    "\n",
    "#########automatic part#########\n",
    "#combine into one dist/z list\n",
    "step1 = (transect_dist + distance_wells[1]) #distance from well 1\n",
    "# Create new lists to store the combined data\n",
    "dist = distance_wells.copy()  # Copy the original distance_wells list\n",
    "dist.extend(step1)  # Add the calculated distances to the new dist list\n",
    "\n",
    "# step2 = [z_well - fluc_well for z_well, fluc_well in zip(z_wells, fluc_wells)] #height correction for wells (list comprehension)\n",
    "step3 = transect_z - (fluc_wells[1] + laserheight) * np.ones(len(transect_z))  # height correction for transect\n",
    "\n",
    "step4 = wells_z - fluc_wells\n",
    "step5 = step4 - step4[0]\n",
    "step6 = (0 + step5[1] + fluc_wells[1] - laserheight) + transect_z\n",
    "\n",
    "# Combine the height corrections into a single list\n",
    "z = np.hstack((step5, step6))\n",
    "\n",
    "# # print(step2)\n",
    "# print()\n",
    "# print(dist)\n",
    "# print()\n",
    "# print(z)\n",
    "# # plot\n",
    "# plt.plot(dist, z, marker='o')\n",
    "# plt.ylim(-4, 0)\n",
    "# plt.xlim(0, 30)\n",
    "# plt.axis('equal')"
   ]
  },
  {
   "cell_type": "code",
   "execution_count": 6,
   "id": "339897c0",
   "metadata": {},
   "outputs": [
    {
     "name": "stdout",
     "output_type": "stream",
     "text": [
      "int_end should end before 47.421311965988885\n"
     ]
    }
   ],
   "source": [
    "print(f'int_end should end before {transect_dist[-1] + b1}')"
   ]
  },
  {
   "cell_type": "code",
   "execution_count": 7,
   "id": "94effb3a-a1cd-4b94-a738-2c0364b6e614",
   "metadata": {},
   "outputs": [],
   "source": [
    "##interpolation\n",
    "int_start = 0 #start from well 1\n",
    "int_end = 48 #look at last fitting point for interpolation\n",
    "idxdy = 2 #matlab input\n",
    "\n",
    "x_interp = np.arange(int_start, int_end, idxdy)\n",
    "linear_interp = interpolate.interp1d(dist, z, kind='linear')\n",
    "z_interp = linear_interp(x_interp)\n",
    "\n",
    "# # Plot the interpolated values\n",
    "# plt.figure(figsize=(10, 6))\n",
    "# plt.plot(dist, z, 'o', label='Measured transect')\n",
    "# plt.plot(x_interp, z_interp, '-', label='Interpolated values')\n",
    "# plt.xlabel('Distance (x) [m]')\n",
    "# plt.ylabel('Height (z) [m]')\n",
    "# plt.title('Linear Interpolation of Beach Profile')\n",
    "# plt.legend()\n",
    "# plt.grid(True)\n",
    "# plt.show()"
   ]
  },
  {
   "cell_type": "code",
   "execution_count": 8,
   "id": "8dbd22a6-6e08-4632-aee5-a15c08e1cd9b",
   "metadata": {},
   "outputs": [],
   "source": [
    "#extrapolation\n",
    "ext_end = 80 + idxdy + 1 #depending on matlab input\n",
    "\n",
    "#optimalization parameters (already optimized, don't change)\n",
    "wherexis0 = 70\n",
    "decay_rate = 0.02  # Controls how fast the slope decreases to 0\n",
    "\n",
    "#####dont change anything below\n",
    "ext_start = int_end + idxdy\n",
    "x_extrap = np.arange(ext_start, ext_end, idxdy)\n",
    "\n",
    "# # Slope from the last two known points\n",
    "# slope_start = (z[-1] - z[-2]) / (dist[-1] - dist[-2])\n",
    "# z_start = z[-1]\n",
    "\n",
    "# # Smoothly decreasing slope to 0 using an exponential decay model\n",
    "# def smooth_extrapolation(x, x0, z0, slope, x_end, decay_rate):\n",
    "#     slope_factor = np.exp(-decay_rate * (x - x0))\n",
    "#     return z0 + slope * (x - x0) * slope_factor\n",
    "\n",
    "# # Parameters for smooth extrapolation\n",
    "\n",
    "# z_extrap = smooth_extrapolation(x_extrap, dist[-1], z_start, slope_start, wherexis0, decay_rate)\n",
    "\n",
    "# # Combine interpolated and extrapolated x and z values\n",
    "# x_total = np.concatenate([x_interp, x_extrap])\n",
    "# z_total = np.concatenate([z_interp, z_extrap])\n",
    "\n",
    "# # Plot the results\n",
    "# plt.figure(figsize=(10, 6))\n",
    "# plt.plot(dist, z, 'o', label='Measured transect')\n",
    "# plt.plot(x_total, z_total, '-', label='Interpolated & Smooth Extrapolated')\n",
    "# # plt.axvline(wherexis0, color='r', linestyle='--', label='Slope=0 at x=78')\n",
    "# plt.xlabel('Distance (x) [m]')\n",
    "# plt.ylabel('Height (z) [m]')\n",
    "# plt.title('Smooth Extrapolation with Flattening Slope at x=78')\n",
    "# plt.legend()\n",
    "# plt.grid(True)\n",
    "# plt.show()"
   ]
  },
  {
   "cell_type": "code",
   "execution_count": 9,
   "id": "390b2ff0-9abc-458a-90a1-03d528c02357",
   "metadata": {},
   "outputs": [
    {
     "data": {
      "image/png": "[encoded data removed]",
      "text/plain": [
       "<Figure size 1000x600 with 1 Axes>"
      ]
     },
     "metadata": {},
     "output_type": "display_data"
    }
   ],
   "source": [
    "#extrapolation method 2\n",
    "# Parameters for the new extrapolation\n",
    "depth_point = z[-1]  # Last known depth\n",
    "rise_height = -4.5  # Target flattening height\n",
    "rise_distance = 15  # Distance over which to rise to the target height\n",
    "\n",
    "# Compute the new extrapolation\n",
    "def trench_extrapolation(x, depth_point, rise_height, rise_distance):\n",
    "    # Linear rise from the last point to the rise height\n",
    "    if x < (int_end + rise_distance):\n",
    "        return depth_point + (rise_height - depth_point) / rise_distance * (x - int_end)\n",
    "    else:\n",
    "        return rise_height\n",
    "\n",
    "z_extrap = np.array([trench_extrapolation(x, depth_point, rise_height, rise_distance) for x in x_extrap])\n",
    "\n",
    "# Combine interpolated and extrapolated x and z values\n",
    "x_total = np.concatenate([x_interp, x_extrap])\n",
    "z_total = np.concatenate([z_interp, z_extrap])\n",
    "\n",
    "# Plot the results\n",
    "plt.figure(figsize=(10, 6))\n",
    "plt.plot(dist, z, 'o', label='measured transect')\n",
    "plt.plot(x_total, z_total, marker = 'o', label='Interpolated & Trench Extrapolated')\n",
    "plt.axhline(-4.5, color='r', label='Flattening at z=-4.5')\n",
    "plt.xlabel('Distance (x) [m]')\n",
    "plt.ylabel('Height (z) [m]')\n",
    "plt.title('Extrapolation Based on Trench Theory')\n",
    "plt.legend()\n",
    "plt.grid(True)\n",
    "plt.show()"
   ]
  },
  {
   "cell_type": "code",
   "execution_count": 10,
   "id": "97b52c46-a937-4eec-8207-3aef4e62d87f",
   "metadata": {},
   "outputs": [
    {
     "name": "stdout",
     "output_type": "stream",
     "text": [
      "[ 0.         -0.18758159 -0.38370733 -0.590561   -0.80080264 -0.97669932\n",
      " -1.10375884 -1.25864912 -1.46439684 -1.66200314 -1.8579279  -2.05172139\n",
      " -2.24046235 -2.4251348  -2.57685428 -2.72880753 -2.88227605 -3.04705463\n",
      " -3.23457282 -3.43131097 -3.62069085 -3.79753454 -3.99192865 -4.21101541\n",
      " -4.617      -4.599      -4.581      -4.563      -4.545      -4.527\n",
      " -4.509      -4.5        -4.5        -4.5        -4.5        -4.5\n",
      " -4.5        -4.5        -4.5        -4.5        -4.5       ]\n"
     ]
    }
   ],
   "source": [
    "print(z_total)"
   ]
  },
  {
   "cell_type": "code",
   "execution_count": 11,
   "id": "e40265e2-b48a-488f-8ac1-8d41d7997a8f",
   "metadata": {},
   "outputs": [
    {
     "name": "stdout",
     "output_type": "stream",
     "text": [
      "41\n"
     ]
    }
   ],
   "source": [
    "print(len(z_total))"
   ]
  },
  {
   "cell_type": "code",
   "execution_count": 12,
   "id": "022f6694-9086-4ed5-9f82-f28d36c98cc0",
   "metadata": {},
   "outputs": [
    {
     "name": "stdout",
     "output_type": "stream",
     "text": [
      "[ 3.804       3.61641841  3.42029267  3.213439    3.00319736  2.82730068\n",
      "  2.70024116  2.54535088  2.33960316  2.14199686  1.9460721   1.75227861\n",
      "  1.56353765  1.3788652   1.22714572  1.07519247  0.92172395  0.75694537\n",
      "  0.56942718  0.37268903  0.18330915  0.00646546 -0.18792865 -0.40701541\n",
      " -0.813      -0.795      -0.777      -0.759      -0.741      -0.723\n",
      " -0.705      -0.696      -0.696      -0.696      -0.696      -0.696\n",
      " -0.696      -0.696      -0.696      -0.696      -0.696     ]\n"
     ]
    }
   ],
   "source": [
    "#rectified z for mean sea level (input matlab)\n",
    "\n",
    "z_rectified = z_total + 0.204 + 3.6\n",
    "# z_rectified = []\n",
    "\n",
    "# for i in range(len(z_total)):\n",
    "#     z_rectified.append(z_total[i] + 0.204 + 3.6)\n",
    "\n",
    "print(z_rectified)"
   ]
  },
  {
   "cell_type": "code",
   "execution_count": null,
   "id": "b3da245b-905b-443e-b809-7c7d02feef91",
   "metadata": {},
   "outputs": [],
   "source": []
  }
 ],
 "metadata": {
  "kernelspec": {
   "display_name": "MDP_costarica",
   "language": "python",
   "name": "python3"
  },
  "language_info": {
   "codemirror_mode": {
    "name": "ipython",
    "version": 3
   },
   "file_extension": ".py",
   "mimetype": "text/x-python",
   "name": "python",
   "nbconvert_exporter": "python",
   "pygments_lexer": "ipython3",
   "version": "3.8.20"
  }
 },
 "nbformat": 4,
 "nbformat_minor": 5
}
