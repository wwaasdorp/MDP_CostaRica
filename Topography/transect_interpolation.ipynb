{
 "cells": [
  {
   "cell_type": "code",
   "execution_count": 11,
   "id": "5016ec1b-7e1f-471b-ab9f-751309d59c57",
   "metadata": {},
   "outputs": [],
   "source": [
    "import matplotlib.pyplot as plt\n",
    "import numpy as np\n",
    "import scipy.linalg as la\n",
    "from scipy.spatial import distance\n",
    "import math"
   ]
  },
  {
   "cell_type": "code",
   "execution_count": 12,
   "id": "9a69f73f-abe3-4d65-b006-2dd04f9d5d96",
   "metadata": {},
   "outputs": [
    {
     "name": "stdout",
     "output_type": "stream",
     "text": [
      "X coordinates: [642148.73308783 642146.54931114 642144.36553418]\n",
      "Y coordinates: [1105249.52624115 1105247.30581951 1105245.08539804]\n",
      "Elevations: [3.6   3.301 2.981]\n"
     ]
    }
   ],
   "source": [
    "# Load the data from the txt file, skip the first column (usecols specifies which columns to load)\n",
    "data = np.loadtxt('df_wells_UTM.txt', delimiter=',', usecols=(1, 2, 3))\n",
    "\n",
    "# Split the columns into variables (X, Y, and Elevation)\n",
    "x_coord, y_coord, z_wells = data.T  # Transpose for easy unpacking\n",
    "\n",
    "# Print the loaded data\n",
    "print(\"X coordinates:\", x_coord), print(\"Y coordinates:\", y_coord), print(\"Elevations:\", z_wells);"
   ]
  },
  {
   "cell_type": "code",
   "execution_count": 37,
   "id": "cb42ccc9-95fe-4980-b6bc-850155ae1223",
   "metadata": {},
   "outputs": [],
   "source": [
    "#functions\n",
    "def euclidean_distance(x1, y1, x2, y2):\n",
    "    \"\"\"Calculate Euclidean distance between two points (x1, y1) and (x2, y2)\"\"\"\n",
    "    return np.sqrt((x2 - x1)**2 + (y2 - y1)**2)\n",
    "\n",
    "def angle_between_vectors(v1, v2):  \n",
    "    v1 = np.array(v1)  \n",
    "    v2 = np.array(v2)  \n",
    "    cos_theta = np.dot(v1, v2) / (np.linalg.norm(v1) * np.linalg.norm(v2))  \n",
    "    angle = np.arccos(cos_theta)  # angle in radians  \n",
    "    return np.degrees(angle)  # convert to degrees "
   ]
  },
  {
   "cell_type": "code",
   "execution_count": 67,
   "id": "1b3073ee-b623-460b-8745-9797732aa2cb",
   "metadata": {},
   "outputs": [],
   "source": [
    "#translate direction to UTM system\n",
    "angle_deg = 228\n",
    "angle_rad = np.radians(angle_deg)\n",
    "\n",
    "#create UTM vector 228\n",
    "V_228 = (np.sin(angle_rad), np.cos(angle_rad))\n",
    "V_opp = (-np.cos(angle_rad), np.sin(angle_rad))"
   ]
  },
  {
   "cell_type": "code",
   "execution_count": 68,
   "id": "9de713e0-9091-41d9-853e-1e3077b15409",
   "metadata": {},
   "outputs": [],
   "source": [
    "#vector between well 1 and 2\n",
    "V_12 = (x_coord[1] - x_coord[0], y_coord[1] - y_coord[0])\n",
    "\n",
    "#anglewell12\n",
    "angle_deg_1 = angle_between_vectors(V_228, V_12)\n",
    "angle_deg_2 = angle_between_vectors(V_opp, V_12)\n",
    "angle_rad_1, angle_rad_2 = np.radians(angle_deg_1), np.radians(angle_deg_2) #both angles in radians\n",
    "\n",
    "dist_well12 = euclidean_distance(x_coord[0], y_coord[0], x_coord[1], y_coord[1])\n",
    "\n",
    "#leg distance using sinus regel\n",
    "b1 = (dist_well12 * np.sin(angle_rad_2)) / np.sin(np.radians(90))"
   ]
  },
  {
   "cell_type": "code",
   "execution_count": 69,
   "id": "c2083320-3450-4d53-80b8-92d68134ee92",
   "metadata": {},
   "outputs": [],
   "source": [
    "#vector between well 1 and 2\n",
    "V_32 = (x_coord[1] - x_coord[2], y_coord[1] - y_coord[2])\n",
    "\n",
    "#anglewell12\n",
    "angle_deg_3 = angle_between_vectors(V_228, V_32)\n",
    "angle_deg_22 = angle_between_vectors(V_opp, V_32)\n",
    "angle_rad_3, angle_rad_2 = np.radians(angle_deg_3), np.radians(angle_deg_22) #both angles in radians\n",
    "\n",
    "dist_well32 = euclidean_distance(x_coord[2], y_coord[2], x_coord[1], y_coord[1])\n",
    "\n",
    "#leg distance using sinus regel\n",
    "b3 = (dist_well32 * np.sin(angle_rad_2)) / np.sin(np.radians(90))"
   ]
  },
  {
   "cell_type": "code",
   "execution_count": 70,
   "id": "728194b5-40d1-491c-8bd3-653fc3452d4c",
   "metadata": {},
   "outputs": [
    {
     "name": "stdout",
     "output_type": "stream",
     "text": [
      "3.1086144250962455 3.1086145132720406\n"
     ]
    }
   ],
   "source": [
    "print(b1, b3)"
   ]
  },
  {
   "cell_type": "code",
   "execution_count": 105,
   "id": "8bee106a-4f27-43bf-8340-32ff61f7652b",
   "metadata": {},
   "outputs": [
    {
     "name": "stdout",
     "output_type": "stream",
     "text": [
      "\n",
      "[0, 3.1086144250962455, 6.217228938368287, 6.461614425096245, 9.311614425096245, 12.157614425096245, 14.979614425096246, 17.865614425096247, 20.690614425096246, 23.617614425096246, 26.530614425096246, 29.336614425096247]\n",
      "\n",
      "[ 0.    -0.261 -0.585 -0.657 -0.894 -1.112 -1.312 -1.572 -1.782 -2.022\n",
      " -2.232 -2.432]\n"
     ]
    },
    {
     "data": {
      "text/plain": [
       "[<matplotlib.lines.Line2D at 0x1ca05906100>]"
      ]
     },
     "execution_count": 105,
     "metadata": {},
     "output_type": "execute_result"
    },
    {
     "data": {
      "image/png": "[encoded data removed]",
      "text/plain": [
       "<Figure size 640x480 with 1 Axes>"
      ]
     },
     "metadata": {},
     "output_type": "display_data"
    }
   ],
   "source": [
    "#This code is for altering the local transect and interpolate, so that it can be used as the iz input for matlab CoastalCam\n",
    "\n",
    "#########known#########\n",
    "laserheight = 0.015\n",
    "#well base\n",
    "distance_wells = [0, b1, b1+b3] #distance from well 1 (either 228, or 226 degree North)\n",
    "\n",
    "#########input 04_10_24#########\n",
    "#daily height fluctuations\n",
    "fluc_wells = [value / 100 for value in [23.2, 19.4, 19.8]] #height well above sand level\n",
    "\n",
    "transect_dist = [3.353, 6.203, 9.049, 11.871, 14.757, 17.582, 20.509, 23.422, 26.228] #distance from well 2\n",
    "transect_z = [-0.575, -0.812, -1.03, -1.23, -1.49, -1.7, -1.94, -2.15, -2.35]\n",
    "\n",
    "#########automatic part#########\n",
    "#combine into one dist/z list\n",
    "step1 = (transect_dist + distance_wells[1]) #distance from well 1\n",
    "# Create new lists to store the combined data\n",
    "dist = distance_wells.copy()  # Copy the original distance_wells list\n",
    "dist.extend(step1)  # Add the calculated distances to the new dist list\n",
    "\n",
    "# step2 = [z_well - fluc_well for z_well, fluc_well in zip(z_wells, fluc_wells)] #height correction for wells (list comprehension)\n",
    "step3 = transect_z - (fluc_wells[1] + laserheight) * np.ones(9)  # height correction for transect\n",
    "\n",
    "step4 = z_wells - fluc_wells\n",
    "step5 = step4 - step4[0]\n",
    "step6 = (0 + step5[1] + fluc_wells[1] - laserheight) + transect_z\n",
    "\n",
    "# Combine the height corrections into a single list\n",
    "z = np.hstack((step5, step6))\n",
    "\n",
    "# print(step2)\n",
    "print()\n",
    "print(dist)\n",
    "print()\n",
    "print(z)\n",
    "# plot\n",
    "plt.plot(dist, z, marker='o')"
   ]
  },
  {
   "cell_type": "code",
   "execution_count": null,
   "id": "94effb3a-a1cd-4b94-a738-2c0364b6e614",
   "metadata": {},
   "outputs": [],
   "source": []
  },
  {
   "cell_type": "code",
   "execution_count": null,
   "id": "8dbd22a6-6e08-4632-aee5-a15c08e1cd9b",
   "metadata": {},
   "outputs": [],
   "source": []
  },
  {
   "cell_type": "code",
   "execution_count": null,
   "id": "390b2ff0-9abc-458a-90a1-03d528c02357",
   "metadata": {},
   "outputs": [],
   "source": []
  }
 ],
 "metadata": {
  "kernelspec": {
   "display_name": "MDP Costa Rica",
   "language": "python",
   "name": "mdp_costarica"
  },
  "language_info": {
   "codemirror_mode": {
    "name": "ipython",
    "version": 3
   },
   "file_extension": ".py",
   "mimetype": "text/x-python",
   "name": "python",
   "nbconvert_exporter": "python",
   "pygments_lexer": "ipython3",
   "version": "3.8.20"
  }
 },
 "nbformat": 4,
 "nbformat_minor": 5
}
