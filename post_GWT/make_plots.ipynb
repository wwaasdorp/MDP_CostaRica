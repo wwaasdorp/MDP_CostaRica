{
 "cells": [
  {
   "cell_type": "code",
   "execution_count": 1,
   "metadata": {},
   "outputs": [],
   "source": [
    "import pandas as pd\n",
    "import numpy as np\n",
    "import matplotlib.pyplot as plt\n",
    "from datetime import datetime"
   ]
  },
  {
   "cell_type": "code",
   "execution_count": 2,
   "metadata": {},
   "outputs": [],
   "source": [
    "df_heights = pd.read_csv('data/well_heights.csv')\n",
    "df_heights['date'] = pd.to_datetime(df_heights['date'], format='%d-%m-%Y')\n",
    "df_heights = df_heights.set_index('date')"
   ]
  },
  {
   "cell_type": "code",
   "execution_count": null,
   "metadata": {},
   "outputs": [],
   "source": [
    "def make_plot(date):\n",
    "\n",
    "    # Transform datetime into time format for loading in the logger data\n",
    "    string_date = datetime.strftime(date, '%Y%m%d')\n",
    "\n",
    "    # Load in the data of the wells\n",
    "    df_01 = pd.read_csv(f'data/{string_date}/logger_01.csv')\n",
    "    df_02 = pd.read_csv(f'data/{string_date}/logger_02.csv')\n",
    "    df_03 = pd.read_csv(f'data/{string_date}/logger_03.csv')\n",
    "\n",
    "    # Load in the well heights\n",
    "    heights = df_heights.loc[date]\n",
    "    "
   ]
  },
  {
   "cell_type": "code",
   "execution_count": 27,
   "metadata": {},
   "outputs": [],
   "source": [
    "start_date = '20240927'\n",
    "end_date = '20241018'\n",
    "\n",
    "end_date = datetime.strptime(end_date, '%Y%m%d')"
   ]
  },
  {
   "cell_type": "code",
   "execution_count": 28,
   "metadata": {},
   "outputs": [
    {
     "name": "stdout",
     "output_type": "stream",
     "text": [
      "20241018\n"
     ]
    }
   ],
   "source": [
    "make_plot(end_date)"
   ]
  },
  {
   "cell_type": "code",
   "execution_count": null,
   "metadata": {},
   "outputs": [],
   "source": []
  }
 ],
 "metadata": {
  "kernelspec": {
   "display_name": "mude",
   "language": "python",
   "name": "python3"
  },
  "language_info": {
   "codemirror_mode": {
    "name": "ipython",
    "version": 3
   },
   "file_extension": ".py",
   "mimetype": "text/x-python",
   "name": "python",
   "nbconvert_exporter": "python",
   "pygments_lexer": "ipython3",
   "version": "3.11.4"
  }
 },
 "nbformat": 4,
 "nbformat_minor": 2
}
