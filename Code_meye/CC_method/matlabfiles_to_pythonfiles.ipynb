{
 "cells": [
  {
   "cell_type": "code",
   "execution_count": 1,
   "metadata": {},
   "outputs": [
    {
     "name": "stdout",
     "output_type": "stream",
     "text": [
      "Irgb data has been saved as Irgb.npy\n"
     ]
    }
   ],
   "source": [
    "import scipy.io\n",
    "import numpy as np\n",
    "\n",
    "# Load the .mat file\n",
    "path = r\"C:\\Users\\katin\\Photogrammetry\\SOFTX_2020_236-master\\0410_processing\\G2_output\\G2_pixInstruments_0410_102_pixInst.mat\"\n",
    "mat_data = scipy.io.loadmat(path)\n",
    "\n",
    "# Navigate to the 'Irgb' data\n",
    "Irgb = mat_data['pixInst'][0][0][7]\n",
    "\n",
    "# Specify the directory where you want to save the .npy file\n",
    "save_directory = r\"C:\\Users\\katin\\MUDE\\MDP_CostaRica\\Code_meye\\processed\\timestacks\"\n",
    "\n",
    "# Save the 'Irgb' data as a .npy file in the specified directory\n",
    "np.save(f'{save_directory}\\\\timestack_0410_102.npy', Irgb)\n",
    "\n",
    "print(\"Irgb data has been saved as Irgb.npy\")"
   ]
  },
  {
   "cell_type": "code",
   "execution_count": 2,
   "metadata": {},
   "outputs": [],
   "source": [
    "#save real coordinates columns 5 6 and 8\n",
    "\n",
    "# pix2world = mat_data['pixInst'][0][0][:, [5, 6, 8]]\n",
    "\n",
    "# pix2world = mat_data['pixInst'][0][0][5, 6, 8]]\n"
   ]
  },
  {
   "cell_type": "code",
   "execution_count": 3,
   "metadata": {},
   "outputs": [],
   "source": [
    "# Extract the specific columns\n",
    "pix2world_5 = mat_data['pixInst'][0][0][5]  # Column 5\n",
    "pix2world_6 = mat_data['pixInst'][0][0][6]  # Column 6\n",
    "pix2world_8 = mat_data['pixInst'][0][0][8]  # Column 8\n",
    "\n",
    "# Combine the extracted columns into a single array (if necessary)\n",
    "# Assuming you want to stack them horizontally, change the axis if needed\n",
    "pix2world = np.column_stack((pix2world_5, pix2world_6, pix2world_8))\n",
    "\n",
    "# Save the combined array to a .npy file\n",
    "save_directory2 = r\"C:\\Users\\katin\\MUDE\\MDP_CostaRica\\Code_meye\\processed\\Pixel2World\"\n",
    "\n",
    "np.save(f'{save_directory2}\\\\pix2world_0410_102.npy', pix2world)"
   ]
  },
  {
   "cell_type": "code",
   "execution_count": 4,
   "metadata": {},
   "outputs": [
    {
     "name": "stdout",
     "output_type": "stream",
     "text": [
      "(401, 3)\n",
      "(401, 999, 3)\n"
     ]
    }
   ],
   "source": [
    "print(pix2world.shape)\n",
    "print(Irgb.shape)"
   ]
  },
  {
   "cell_type": "code",
   "execution_count": 5,
   "metadata": {},
   "outputs": [
    {
     "name": "stdout",
     "output_type": "stream",
     "text": [
      "(999, 3)\n"
     ]
    }
   ],
   "source": [
    "print(Irgb[0].shape)"
   ]
  },
  {
   "cell_type": "code",
   "execution_count": 6,
   "metadata": {},
   "outputs": [],
   "source": [
    "Irgb_rotated = Irgb.transpose()"
   ]
  },
  {
   "cell_type": "code",
   "execution_count": 7,
   "metadata": {},
   "outputs": [
    {
     "name": "stdout",
     "output_type": "stream",
     "text": [
      "(3, 999, 401)\n"
     ]
    }
   ],
   "source": [
    "print(Irgb_rotated.shape)"
   ]
  },
  {
   "cell_type": "code",
   "execution_count": null,
   "metadata": {},
   "outputs": [],
   "source": []
  }
 ],
 "metadata": {
  "kernelspec": {
   "display_name": "MDP_costarica",
   "language": "python",
   "name": "python3"
  },
  "language_info": {
   "codemirror_mode": {
    "name": "ipython",
    "version": 3
   },
   "file_extension": ".py",
   "mimetype": "text/x-python",
   "name": "python",
   "nbconvert_exporter": "python",
   "pygments_lexer": "ipython3",
   "version": "3.8.20"
  }
 },
 "nbformat": 4,
 "nbformat_minor": 2
}
