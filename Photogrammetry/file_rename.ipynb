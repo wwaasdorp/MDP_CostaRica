{
 "cells": [
  {
   "cell_type": "code",
   "execution_count": null,
   "metadata": {},
   "outputs": [],
   "source": [
    "import os\n",
    "import time\n",
    "from PIL import Image\n",
    "from PIL.ExifTags import TAGS\n",
    "\n",
    "def get_exif_data(image_path):\n",
    "    image = Image.open(image_path)\n",
    "    exif_data = image._getexif()\n",
    "    if exif_data:\n",
    "        exif = {TAGS.get(tag, tag): value for tag, value in exif_data.items()}\n",
    "        return exif\n",
    "    else:\n",
    "        return None\n",
    "\n",
    "def get_photo_datetime(exif_data):\n",
    "    # 'DateTimeOriginal' contains the date and time the photo was taken\n",
    "    date_time_str = exif_data.get('DateTimeOriginal', None)\n",
    "    if date_time_str:\n",
    "        # Convert the string \"YYYY:MM:DD HH:MM:SS\" to \"YYYY-MM-DD HH:MM:SS\"\n",
    "        date_time_str = date_time_str.replace(':', '-', 2)\n",
    "        return date_time_str\n",
    "    else:\n",
    "        return None\n",
    "\n",
    "def rename_to_epoch(image_path):\n",
    "    exif_data = get_exif_data(image_path)\n",
    "    if not exif_data:\n",
    "        print(f\"No EXIF metadata found for {image_path}\")\n",
    "        return\n",
    "\n",
    "    date_time_str = get_photo_datetime(exif_data)\n",
    "    if not date_time_str:\n",
    "        print(f\"Date and time not found in metadata for {image_path}\")\n",
    "        return\n",
    "    \n",
    "    # Convert the date and time to a Unix timestamp (epoch time)\n",
    "    epoch_time = int(time.mktime(time.strptime(date_time_str, \"%Y-%m-%d %H:%M:%S\")))\n",
    "    \n",
    "    # Get the directory and file extension\n",
    "    directory, original_filename = os.path.split(image_path)\n",
    "    file_extension = os.path.splitext(original_filename)[1]\n",
    "\n",
    "    # New filename: epoch time + original extension\n",
    "    new_filename = f\"{epoch_time}{file_extension}\"\n",
    "    new_file_path = os.path.join(directory, new_filename)\n",
    "\n",
    "    # Rename the file\n",
    "    os.rename(image_path, new_file_path)\n",
    "    print(f\"Renamed '{image_path}' to '{new_file_path}'\")\n",
    "\n",
    "# Example usage\n",
    "image_path = 'your_image.jpg'\n",
    "rename_to_epoch(image_path)"
   ]
  }
 ],
 "metadata": {
  "kernelspec": {
   "display_name": "mude",
   "language": "python",
   "name": "python3"
  },
  "language_info": {
   "name": "python",
   "version": "3.11.4"
  }
 },
 "nbformat": 4,
 "nbformat_minor": 2
}
